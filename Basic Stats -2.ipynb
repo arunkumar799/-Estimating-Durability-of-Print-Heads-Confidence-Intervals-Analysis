{
 "cells": [
  {
   "cell_type": "markdown",
   "id": "440e3044-a045-432e-9ed0-3b07bdd0be3c",
   "metadata": {},
   "source": [
    "a. Build 99% Confidence Interval Using Sample Standard Deviation\n",
    "Assuming the sample is representative of the population, construct a 99% confidence interval for the mean number of characters printed before the print-head fails using the sample standard deviation. Explain the steps you take and the rationale behind using the t-distribution for this task.\n"
   ]
  },
  {
   "cell_type": "code",
   "execution_count": 107,
   "id": "a3eb89fa-5e5e-4009-a06e-cc9f91f3b265",
   "metadata": {},
   "outputs": [],
   "source": [
    "#given data\n",
    "#n = 15\n",
    "#CI=0.99 ,alpa = 0.1 and alpha/2 = 0.005\n",
    "#smaple_data= [1.13,1.55,1.43,0.92,1.25,1.36,1.32,0.85,1.07,1.48,1.20,1.33,1.18,1.22,1.29]\n",
    "#n<30 we go for t-test"
   ]
  },
  {
   "cell_type": "code",
   "execution_count": 109,
   "id": "96cb3a9d-2573-410d-95b7-dd41d5e601e1",
   "metadata": {},
   "outputs": [],
   "source": [
    "#To find populaion upper_mean and lower_mean\n",
    "#formula T_test = x_bar+-T_critical*s/sqrt(n)"
   ]
  },
  {
   "cell_type": "code",
   "execution_count": 7,
   "id": "a0b462ec-c28e-4a81-8c22-dea780663815",
   "metadata": {},
   "outputs": [],
   "source": [
    "smaple_data= [1.13,1.55,1.43,0.92,1.25,1.36,1.32,0.85,1.07,1.48,1.20,1.33,1.18,1.22,1.29]"
   ]
  },
  {
   "cell_type": "code",
   "execution_count": 52,
   "id": "74eb81c2-3cfd-4c2e-8335-8d18406af4f9",
   "metadata": {},
   "outputs": [],
   "source": [
    "import numpy as np\n",
    "import scipy.stats as stats"
   ]
  },
  {
   "cell_type": "code",
   "execution_count": 64,
   "id": "a0d87850-1d72-4928-a8da-427e7aea3eb6",
   "metadata": {},
   "outputs": [
    {
     "data": {
      "text/plain": [
       "1.2386666666666666"
      ]
     },
     "execution_count": 64,
     "metadata": {},
     "output_type": "execute_result"
    }
   ],
   "source": [
    "#To find X bar value\n",
    "X_Bar = np.mean(smaple_data)\n",
    "X_Bar"
   ]
  },
  {
   "cell_type": "code",
   "execution_count": 66,
   "id": "e736013a-e324-4f27-8e87-c8a78a385e8a",
   "metadata": {},
   "outputs": [
    {
     "data": {
      "text/plain": [
       "0.19316412956959936"
      ]
     },
     "execution_count": 66,
     "metadata": {},
     "output_type": "execute_result"
    }
   ],
   "source": [
    "#To find s value\n",
    "s_va=[]\n",
    "for i in smaple_data:\n",
    "    s=(i-X_Bar)**2\n",
    "    s_va.append(s)\n",
    "sample = sum(s_va)/14\n",
    "S_value = np.sqrt(sample)\n",
    "S_value "
   ]
  },
  {
   "cell_type": "code",
   "execution_count": 50,
   "id": "35cee93c-92eb-403b-b895-c65a73a725a4",
   "metadata": {},
   "outputs": [],
   "source": [
    "#we can subsitute in formula"
   ]
  },
  {
   "cell_type": "code",
   "execution_count": 68,
   "id": "d407980f-c601-4fe8-b1e9-a2ce7f4fa68c",
   "metadata": {},
   "outputs": [
    {
     "data": {
      "text/plain": [
       "2.976842734370834"
      ]
     },
     "execution_count": 68,
     "metadata": {},
     "output_type": "execute_result"
    }
   ],
   "source": [
    "#To find T_critical\n",
    "T_critical = stats.t.ppf(0.995,14)\n",
    "T_critical"
   ]
  },
  {
   "cell_type": "code",
   "execution_count": 74,
   "id": "11aae8b0-603b-4862-982c-6636908ee85b",
   "metadata": {},
   "outputs": [
    {
     "data": {
      "text/plain": [
       "1.3871359948948425"
      ]
     },
     "execution_count": 74,
     "metadata": {},
     "output_type": "execute_result"
    }
   ],
   "source": [
    "#To find upper mean\n",
    "Upper_mean = X_Bar+(T_critical*(S_value /np.sqrt(15)))\n",
    "Upper_mean"
   ]
  },
  {
   "cell_type": "code",
   "execution_count": 76,
   "id": "a1b47915-a725-428b-a5a3-73549590e441",
   "metadata": {},
   "outputs": [
    {
     "data": {
      "text/plain": [
       "1.0901973384384906"
      ]
     },
     "execution_count": 76,
     "metadata": {},
     "output_type": "execute_result"
    }
   ],
   "source": [
    "#To find lower mean\n",
    "Lower_mean = X_Bar-(T_critical*(S_value /np.sqrt(15)))\n",
    "Lower_mean"
   ]
  },
  {
   "cell_type": "code",
   "execution_count": 85,
   "id": "045a5396-cf82-4ec9-86ff-e0b2d69a85aa",
   "metadata": {},
   "outputs": [],
   "source": [
    "#There fore lower mean = 1.0901973384384906 and upper mean = 1.3871359948948425\n",
    "#Then the  true mean number  lies bettween  lower mean ,upper mean"
   ]
  },
  {
   "cell_type": "markdown",
   "id": "8e2e2fd3-65c4-489b-9558-245fe90e6a00",
   "metadata": {},
   "source": [
    "b. Build 99% Confidence Interval Using Known Population Standard Deviation\n",
    "If it were known that the population standard deviation is 0.2 million characters, construct a 99% confidence interval for the mean number of characters printed before failure.\n"
   ]
  },
  {
   "cell_type": "code",
   "execution_count": 81,
   "id": "e6667933-919a-487a-a6ff-3a66b8329560",
   "metadata": {},
   "outputs": [],
   "source": [
    "#given data\n",
    "#sigma = 0.2\n",
    "#n = 15\n",
    "#CI=0.99 ,alpa = 0.1 and alpha/2 = 0.005\n",
    "#smaple_data= [1.13,1.55,1.43,0.92,1.25,1.36,1.32,0.85,1.07,1.48,1.20,1.33,1.18,1.22,1.29]\n",
    "#Hear they provide sigma value then we go for z-test"
   ]
  },
  {
   "cell_type": "code",
   "execution_count": 83,
   "id": "51f13453-a39d-4eb1-ad0a-08179f4a447e",
   "metadata": {},
   "outputs": [],
   "source": [
    "#To find populaion upper_mean and lower_mean\n",
    "#formula Z_test = x_bar+-Z_critical*sigma/sqrt(n)"
   ]
  },
  {
   "cell_type": "code",
   "execution_count": 87,
   "id": "daffae21-41b8-4bed-a455-0778cae3cbb9",
   "metadata": {},
   "outputs": [],
   "source": [
    "smaple_data= [1.13,1.55,1.43,0.92,1.25,1.36,1.32,0.85,1.07,1.48,1.20,1.33,1.18,1.22,1.29]"
   ]
  },
  {
   "cell_type": "code",
   "execution_count": 97,
   "id": "37b77881-1b25-4ebe-a52b-8766751d598d",
   "metadata": {},
   "outputs": [
    {
     "data": {
      "text/plain": [
       "1.2386666666666666"
      ]
     },
     "execution_count": 97,
     "metadata": {},
     "output_type": "execute_result"
    }
   ],
   "source": [
    "#To find X bar value\n",
    "X_Bar = np.mean(smaple_data)\n",
    "X_Bar"
   ]
  },
  {
   "cell_type": "code",
   "execution_count": 91,
   "id": "22b9b5f0-8f53-4a0d-a3ff-1db9989412d4",
   "metadata": {},
   "outputs": [],
   "source": [
    "sigma = 0.2"
   ]
  },
  {
   "cell_type": "code",
   "execution_count": 95,
   "id": "d6b8eaa3-1de2-4431-a16c-999464eaa7e4",
   "metadata": {},
   "outputs": [
    {
     "data": {
      "text/plain": [
       "2.5758293035489004"
      ]
     },
     "execution_count": 95,
     "metadata": {},
     "output_type": "execute_result"
    }
   ],
   "source": [
    "#To find Z_critical\n",
    "Z_critical = stats.norm.ppf(0.995)\n",
    "Z_critical"
   ]
  },
  {
   "cell_type": "code",
   "execution_count": 105,
   "id": "d223d3ac-5e9a-44e9-91b9-4e9b36f994e2",
   "metadata": {},
   "outputs": [
    {
     "data": {
      "text/plain": [
       "1.3716819199375725"
      ]
     },
     "execution_count": 105,
     "metadata": {},
     "output_type": "execute_result"
    }
   ],
   "source": [
    "#To find upper mean\n",
    "Upper_mean = X_Bar+(Z_critical*(sigma/np.sqrt(15)))\n",
    "Upper_mean"
   ]
  },
  {
   "cell_type": "code",
   "execution_count": 103,
   "id": "edb237a7-01ad-4e7d-a3f1-c9823aeb8823",
   "metadata": {},
   "outputs": [
    {
     "data": {
      "text/plain": [
       "1.1056514133957607"
      ]
     },
     "execution_count": 103,
     "metadata": {},
     "output_type": "execute_result"
    }
   ],
   "source": [
    "#To find lower mean\n",
    "Lower_mean = X_Bar-(Z_critical*(sigma/np.sqrt(15)))\n",
    "Lower_mean"
   ]
  },
  {
   "cell_type": "code",
   "execution_count": null,
   "id": "06c1ee1e-3ee1-4be0-9a7b-befdf465a189",
   "metadata": {},
   "outputs": [],
   "source": [
    "#There fore lower mean = 1.1056514133957607 and upper mean = 1.3716819199375725\n",
    "# This interval provides a range within which you can be 99% confident that the true population mean lies, \n",
    "#given the known population standard deviation. "
   ]
  }
 ],
 "metadata": {
  "kernelspec": {
   "display_name": "Python 3 (ipykernel)",
   "language": "python",
   "name": "python3"
  },
  "language_info": {
   "codemirror_mode": {
    "name": "ipython",
    "version": 3
   },
   "file_extension": ".py",
   "mimetype": "text/x-python",
   "name": "python",
   "nbconvert_exporter": "python",
   "pygments_lexer": "ipython3",
   "version": "3.12.4"
  }
 },
 "nbformat": 4,
 "nbformat_minor": 5
}
